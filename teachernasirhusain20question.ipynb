{
  "nbformat": 4,
  "nbformat_minor": 0,
  "metadata": {
    "colab": {
      "provenance": []
    },
    "kernelspec": {
      "name": "python3",
      "display_name": "Python 3"
    },
    "language_info": {
      "name": "python"
    }
  },
  "cells": [
    {
      "cell_type": "code",
      "execution_count": null,
      "metadata": {
        "colab": {
          "base_uri": "https://localhost:8080/"
        },
        "id": "XUx8FwMw7IZw",
        "outputId": "cedce6bb-563a-4153-b21d-cafb9df9ca05"
      },
      "outputs": [
        {
          "output_type": "stream",
          "name": "stdout",
          "text": [
            "Enter the length of the rectangle: 5\n",
            "Enter the width of the rectangle: 4\n",
            "The area of the rectangle is: 20.0\n"
          ]
        }
      ],
      "source": [
        "\n",
        "\n",
        "\n",
        "#1) Area of a Rectangle:**\n",
        "#Write a Python program to calculate the area of a rectangle using the formula:\n",
        "\n",
        "#**Area = length × width**\n",
        "\n",
        "#Take the **length** and **width** as inputs from the user, then calculate and display the area.\n",
        "\n",
        "\n",
        "#solution-------------\n",
        "# Program to calculate the area of a rectangle\n",
        "\n",
        "# Take input from the user\n",
        "length = float(input(\"Enter the length of the rectangle: \"))\n",
        "width = float(input(\"Enter the width of the rectangle: \"))\n",
        "\n",
        "# Calculate area\n",
        "area = length * width\n",
        "\n",
        "# Display the result\n",
        "print(\"The area of the rectangle is:\", area)\n",
        "\n"
      ]
    },
    {
      "cell_type": "code",
      "source": [
        "# Question:\n",
        "# 2) Circumference of a Circle:\n",
        "# Write a Python program to calculate the circumference of a circle.\n",
        "\n",
        "# Take the radius (r) as input from the user.\n",
        "\n",
        "\n",
        "# # Use the formula:\n",
        "# Circumference = 2 × π × r\n",
        "\n",
        "\n",
        "\n",
        "import math\n",
        "\n",
        "# User se radius lo\n",
        "radius = float(input(\"Enter the radius of the circle: \"))\n",
        "\n",
        "# Circumference ka formula lagao\n",
        "circumference = 2 * math.pi * radius\n",
        "\n",
        "# Result print karo\n",
        "print(\"The circumference of the circle is:\", circumference)\n"
      ],
      "metadata": {
        "colab": {
          "base_uri": "https://localhost:8080/"
        },
        "id": "sdit4G5O9cOY",
        "outputId": "a98db81a-02ef-4b3a-8cd6-dc16e57da496"
      },
      "execution_count": null,
      "outputs": [
        {
          "output_type": "stream",
          "name": "stdout",
          "text": [
            "Enter the radius of the circle: 6\n",
            "The circumference of the circle is: 37.69911184307752\n"
          ]
        }
      ]
    },
    {
      "cell_type": "code",
      "source": [
        "# 2) Circumference of a Circle:\n",
        "# Write a Python program to calculate the circumference of a circle.\n",
        "# Use the formula:\n",
        "\n",
        "# Circumference = 2 × π × r\n",
        "\n",
        "# Take the radius (r) as input from the user.\n",
        "\n",
        "#-------solution------\n",
        "import math\n",
        "\n",
        "# User se radius lo\n",
        "radius = float(input(\"Enter the radius of the circle: \"))\n",
        "\n",
        "# Circumference ka formula lagao\n",
        "circumference = 2 * math.pi * radius\n",
        "\n",
        "# Result print karo\n",
        "print(\"The circumference of the circle is:\", circumference)\n"
      ],
      "metadata": {
        "colab": {
          "base_uri": "https://localhost:8080/"
        },
        "id": "jCE4sgnMf4eP",
        "outputId": "3e0eed02-7ab2-4c3c-82d2-6a956cb00950"
      },
      "execution_count": null,
      "outputs": [
        {
          "output_type": "stream",
          "name": "stdout",
          "text": [
            "Enter the radius of the circle: 5\n",
            "The circumference of the circle is: 31.41592653589793\n"
          ]
        }
      ]
    },
    {
      "cell_type": "code",
      "source": [
        "#q3 ✅ Question:\n",
        "# 3) Simple Interest:\n",
        "# Write a Python program to calculate the simple interest using the formula:\n",
        "\n",
        "# Simple Interest = Principal × Rate × Time / 100\n",
        "\n",
        "# Take Principal, Rate, and Time as inputs from the user.\n",
        "\n",
        "#---splution---------\n",
        "\n",
        "# User se input lena\n",
        "principal = float(input(\"Enter the Principal amount: \"))\n",
        "rate = float(input(\"Enter the Rate of interest (%): \"))\n",
        "time = float(input(\"Enter the Time (in years): \"))\n",
        "\n",
        "# Formula lagakar simple interest calculate karna\n",
        "simple_interest = (principal * rate * time) / 100\n",
        "\n",
        "# Result dikhana\n",
        "print(\"The Simple Interest is:\", simple_interest)\n"
      ],
      "metadata": {
        "colab": {
          "base_uri": "https://localhost:8080/"
        },
        "id": "1s90VQCThgvf",
        "outputId": "76ced4fe-2964-41cb-bbd2-7d7af98ba805"
      },
      "execution_count": null,
      "outputs": [
        {
          "output_type": "stream",
          "name": "stdout",
          "text": [
            "Enter the Principal amount: 1000\n",
            "Enter the Rate of interest (%): 5\n",
            "Enter the Time (in years): 2\n",
            "The Simple Interest is: 100.0\n"
          ]
        }
      ]
    },
    {
      "cell_type": "code",
      "source": [
        "# 📝 4) Speed of an Object:\n",
        "# Write a Python program to calculate the speed of an object. Use the formula:\n",
        "# Speed = Distance / Time\n",
        "# # Take Distance and Time as inputs from the user.\n",
        "\n",
        "#-------solution------\n",
        "# User se Distance aur Time ka input lena\n",
        "distance = float(input(\"Distance (meters) daalein: \"))\n",
        "time = float(input(\"Time (seconds) daalein: \"))\n",
        "\n",
        "# Speed calculate karna\n",
        "speed = distance / time\n",
        "\n",
        "# Result print karna\n",
        "print(\"Speed of the object is:\", speed, \"m/s\")\n",
        "\n",
        "\n"
      ],
      "metadata": {
        "colab": {
          "base_uri": "https://localhost:8080/"
        },
        "id": "sg2nFycZjWIR",
        "outputId": "c3ba2ce5-8dac-4da8-c252-7268035afb0a"
      },
      "execution_count": null,
      "outputs": [
        {
          "output_type": "stream",
          "name": "stdout",
          "text": [
            "Distance (meters) daalein: 100\n",
            "Time (seconds) daalein: 20\n",
            "Speed of the object is: 5.0 m/s\n"
          ]
        }
      ]
    },
    {
      "cell_type": "code",
      "source": [
        "# #q5 📝 Q5) BMI Calculator:\n",
        "# Write a Python program to calculate the Body Mass Index (BMI). Use the formula:\n",
        "\n",
        "# BMI = Weight (kg) / (Height)²\n",
        "# Take Weight and Height as inputs from the user.\n",
        "\n",
        "#solution-----\n",
        "# User se weight aur height ka input lena\n",
        "weight = float(input(\"Enter your weight in kilograms: \"))\n",
        "height = float(input(\"Enter your height in meters: \"))\n",
        "\n",
        "# BMI calculate karna using the formula: BMI = weight / (height)^2\n",
        "bmi = weight / (height ** 2)\n",
        "\n",
        "# Result print karna\n",
        "print(\"Your Body Mass Index (BMI) is:\", round(bmi, 2))\n"
      ],
      "metadata": {
        "colab": {
          "base_uri": "https://localhost:8080/"
        },
        "id": "jDKy9Moj6iJZ",
        "outputId": "9f7cdea7-e0b0-4487-b99d-422ac7b5c2c9"
      },
      "execution_count": null,
      "outputs": [
        {
          "output_type": "stream",
          "name": "stdout",
          "text": [
            "Enter your weight in kilograms: 50\n",
            "Enter your height in meters: 1.77\n",
            "Your Body Mass Index (BMI) is: 15.96\n"
          ]
        }
      ]
    },
    {
      "cell_type": "code",
      "source": [
        "#q6) Force Using Newton's Second Law:\n",
        "# Write a Python program to calculate the force on an object. Use the formula:\n",
        " #F = ma\n",
        "# Take m (mass in kilograms) and a (acceleration in meters/second²) as inputs from the\n",
        "# user.\n",
        "\n",
        "\n",
        "#solution------\n",
        "# Mass aur acceleration user se lena\n",
        "m = float(input(\"Enter mass in kilograms (kg): \"))\n",
        "a = float(input(\"Enter acceleration in meters/second² (m/s²): \"))\n",
        "\n",
        "# Newton's Second Law: F = m × a\n",
        "F = m * a\n",
        "\n",
        "# Result dikhana\n",
        "print(\"The force on the object is:\", F, \"Newtons\")\n"
      ],
      "metadata": {
        "colab": {
          "base_uri": "https://localhost:8080/"
        },
        "id": "wIhpeeI98D0U",
        "outputId": "95321ece-a83c-460c-bc46-0af4ebfd34d2"
      },
      "execution_count": null,
      "outputs": [
        {
          "output_type": "stream",
          "name": "stdout",
          "text": [
            "Enter mass in kilograms (kg): 14\n",
            "Enter acceleration in meters/second² (m/s²): 3\n",
            "The force on the object is: 42.0 Newtons\n"
          ]
        }
      ]
    },
    {
      "cell_type": "code",
      "source": [
        "#q7If You Meant (n - t) (as originally written):\n",
        "# If you intentionally wanted the exponent as (n - t) (though it’s not standard for compound interest), here’s how the program would look:\n",
        "\n",
        "# python\n",
        "# Input values from the user\n",
        "P = float(input(\"Enter the principal amount (P): \"))\n",
        "r = float(input(\"Enter the annual interest rate (as a decimal, e.g., 5% = 0.05): \"))\n",
        "n = int(input(\"Enter the number of times interest is compounded per year (n): \"))\n",
        "t = float(input(\"Enter the time in years (t): \"))\n",
        "\n",
        "# Calculate with (n - t) exponent (unusual formula)\n",
        "A = P * (1 + r/n) ** (n - t)  # Using (n - t) as given in the original question\n",
        "\n",
        "# Display the result\n",
        "print(f\"The total amount (using A = P × (1 + r/n)^(n - t)) is: {A:.2f}\")\n",
        "\n",
        "#solution----\n",
        "# given below code is again correct # Python Code (n - t Version)\n",
        "\n",
        "# # Input values from the user\n",
        "# P = float(input(\"Enter the principal amount (P): \"))\n",
        "# r = float(input(\"Enter the annual interest rate (as a decimal, e.g., 5% = 0.05): \"))\n",
        "# n = int(input(\"Enter the number of times interest is compounded per year (n): \"))\n",
        "# t = float(input(\"Enter the time in years (t): \"))\n",
        "\n",
        "# # Calculate with (n - t) exponent (unusual formula)\n",
        "# A = P * (1 + r/n) ** (n - t)  # Using (n - t) as given in the original question\n",
        "\n",
        "# # Display the result\n",
        "# print(f\"The total amount (using A = P × (1 + r/n)^(n - t)) is: {A:.2f}\")"
      ],
      "metadata": {
        "colab": {
          "base_uri": "https://localhost:8080/"
        },
        "id": "nFKNsQgIGQax",
        "outputId": "bff53920-896c-490b-f7fd-526dc212cef0"
      },
      "execution_count": null,
      "outputs": [
        {
          "output_type": "stream",
          "name": "stdout",
          "text": [
            "Enter the principal amount (P): 100\n",
            "Enter the annual interest rate (as a decimal, e.g., 5% = 0.05): .20\n",
            "Enter the number of times interest is compounded per year (n): 6\n",
            "Enter the time in years (t): 20\n",
            "The total amount (using A = P × (1 + r/n)^(n - t)) is: 63.19\n"
          ]
        }
      ]
    },
    {
      "cell_type": "code",
      "source": [
        "#Q8# Program to calculate the perimeter of a triangle\n",
        "\n",
        "# Get input from the user for all three sides\n",
        "a = float(input(\"Enter the length of side a: \"))\n",
        "b = float(input(\"Enter the length of side b: \"))\n",
        "c = float(input(\"Enter the length of side c: \"))\n",
        "\n",
        "# Calculate the perimeter\n",
        "perimeter = a + b + c\n",
        "\n",
        "# Display the result\n",
        "print(\"The perimeter of the triangle is:\", perimeter)\n"
      ],
      "metadata": {
        "colab": {
          "base_uri": "https://localhost:8080/"
        },
        "id": "OK2r0sKL-Alw",
        "outputId": "1c108a9b-569e-4729-f44d-b4e562a75ea8"
      },
      "execution_count": null,
      "outputs": [
        {
          "output_type": "stream",
          "name": "stdout",
          "text": [
            "Enter the length of side a: 5\n",
            "Enter the length of side b: 7\n",
            "Enter the length of side c: 6\n",
            "The perimeter of the triangle is: 18.0\n"
          ]
        }
      ]
    },
    {
      "cell_type": "code",
      "source": [
        "#Q  #9) Volume of a Sphere:\n",
        "# # Write a Python program to calculate the volume of a sphere. Use the formula:\n",
        "#  Volume = (4/3) × π × r³\n",
        "# # Take r (radius) as input from the user.\n",
        "#solution-------\n",
        "import math\n",
        "\n",
        "# User se radius lena\n",
        "r = float(input(\"Enter the radius of the sphere: \"))\n",
        "\n",
        "# Volume calculate karna using the formula\n",
        "volume = (4/3) * math.pi * (r ** 3)\n",
        "\n",
        "# Result print karna\n",
        "print(\"The volume of the sphere is:\", volume)\n"
      ],
      "metadata": {
        "colab": {
          "base_uri": "https://localhost:8080/"
        },
        "id": "Kg2erjQCEfOb",
        "outputId": "a56c8dff-438e-46ad-8721-6331c285be63"
      },
      "execution_count": null,
      "outputs": [
        {
          "output_type": "stream",
          "name": "stdout",
          "text": [
            "Enter the radius of the sphere: 5\n",
            "The volume of the sphere is: 523.5987755982989\n"
          ]
        }
      ]
    },
    {
      "cell_type": "code",
      "source": [
        "\n",
        "\n",
        "### **Question 10: Kinetic Energy**\n",
        "\n",
        "#Write a Python program to calculate the kinetic energy of an object.**\n",
        "# # KE = 1/2 × mv²\n",
        "# Take m (mass in kilograms) and v (velocity in meters/second) as inputs from the user.\n",
        "# Take a, b, and c as inputs from the user.\n",
        "\n",
        "\n",
        "\n",
        "#solution---\n",
        "# ✅ Python Program to Calculate Kinetic Energy:\n",
        "# User se mass lena (kg mein)\n",
        "m = float(input(\"Enter the mass (in kilograms): \"))\n",
        "\n",
        "# User se velocity lena (m/s mein)\n",
        "v = float(input(\"Enter the velocity (in meters/second): \"))\n",
        "\n",
        "# Kinetic energy calculate karna\n",
        "ke = 0.5 * m * (v ** 2)\n",
        "\n",
        "# Result print karna\n",
        "print(\"The kinetic energy of the object is:\", ke, \"joules\")\n"
      ],
      "metadata": {
        "colab": {
          "base_uri": "https://localhost:8080/"
        },
        "id": "poBDwVdrF0sa",
        "outputId": "aba2d533-885f-4d66-acf3-71a5bd614285"
      },
      "execution_count": null,
      "outputs": [
        {
          "output_type": "stream",
          "name": "stdout",
          "text": [
            "Enter the mass (in kilograms): 6\n",
            "Enter the velocity (in meters/second): 16\n",
            "The kinetic energy of the object is: 768.0 joules\n"
          ]
        }
      ]
    },
    {
      "cell_type": "code",
      "source": [
        "\n",
        "# Q11\n",
        "# # # Write a Python program to find the roots of a quadratic equation. Use the formula:\n",
        "# # # x = -b ± √b² - 4ac / 2a\n",
        "# # Take a, b, and c as inputs from the user.\n",
        "\n",
        "\n",
        "\n",
        "import math\n",
        "\n",
        "# Take inputs from the user\n",
        "a = float(input(\"Enter coefficient a: \"))\n",
        "b = float(input(\"Enter coefficient b: \"))\n",
        "c = float(input(\"Enter coefficient c: \"))\n",
        "\n",
        "# Calculate the discriminant\n",
        "discriminant = b**2 - 4*a*c\n",
        "\n",
        "if discriminant > 0:\n",
        "    # Two real and distinct roots\n",
        "    root1 = (-b + math.sqrt(discriminant)) / (2*a)\n",
        "    root2 = (-b - math.sqrt(discriminant)) / (2*a)\n",
        "    print(f\"The roots are real and different:\")\n",
        "    print(f\"Root 1 = {root1}\")\n",
        "    print(f\"Root 2 = {root2}\")\n",
        "elif discriminant == 0:\n",
        "    # One real root (roots are equal)\n",
        "    root = -b / (2*a)\n",
        "    print(f\"The roots are real and the same:\")\n",
        "    print(f\"Root = {root}\")\n",
        "else:\n",
        "    # Complex roots\n",
        "    real_part = -b / (2*a)\n",
        "    imaginary_part = math.sqrt(-discriminant) / (2*a)\n",
        "    print(f\"The roots are complex and different:\")\n",
        "    print(f\"Root 1 = {real_part} + {imaginary_part}i\")\n",
        "    print(f\"Root 2 = {real_part} - {imaginary_part}i\")\n"
      ],
      "metadata": {
        "colab": {
          "base_uri": "https://localhost:8080/"
        },
        "id": "JK7H4xvmXGvq",
        "outputId": "0870ddd0-4de4-4381-fbd4-06586cea8b86"
      },
      "execution_count": null,
      "outputs": [
        {
          "output_type": "stream",
          "name": "stdout",
          "text": [
            "Enter coefficient a: 1\n",
            "Enter coefficient b: -5\n",
            "Enter coefficient c: 6\n",
            "The roots are real and different:\n",
            "Root 1 = 3.0\n",
            "Root 2 = 2.0\n"
          ]
        }
      ]
    },
    {
      "cell_type": "code",
      "source": [
        "#q12  Temperature Conversion:\n",
        "# Write a Python program to convert a temperature from Celsius to Fahrenheit. Use the\n",
        "# formula:  f = 9/5 c + 32\n",
        "# Take C (temperature in Celsius) as input from the user.\n",
        "\n",
        "# User se Celsius temperature input lena\n",
        "c = float(input(\"Enter temperature in Celsius: \"))\n",
        "\n",
        "# Celsius se Fahrenheit mein convert karna\n",
        "f = (9/5) * c + 32\n",
        "\n",
        "# Result print karna\n",
        "print(f\"Temperature in Fahrenheit: {f}\")\n"
      ],
      "metadata": {
        "colab": {
          "base_uri": "https://localhost:8080/"
        },
        "id": "XoN7aw1VeuR6",
        "outputId": "bbd419e1-8697-4d2f-f8cd-4dccee2409ca"
      },
      "execution_count": null,
      "outputs": [
        {
          "output_type": "stream",
          "name": "stdout",
          "text": [
            "Enter temperature in Celsius: 100\n",
            "Temperature in Fahrenheit: 212.0\n"
          ]
        }
      ]
    },
    {
      "cell_type": "code",
      "source": [
        "#q13  # Here's the question typed out:\n",
        "# Calculate the gravitational force between two objects using the formula F = (G * m1 * m2) / r², where:\n",
        "# m1, m2 are the masses of the objects\n",
        "# r = distance between the centers of the objects\n",
        "# Take m1, m2 and r as inputs from the user\n",
        "\n",
        "\n",
        "#solution-------------------------------\n",
        "# Gravitational constant\n",
        "G = 6.674 * (10 ** -11)\n",
        "\n",
        "# Taking user input for masses and distance\n",
        "m1 = float(input(\"Enter mass of first object (in kg): \"))\n",
        "m2 = float(input(\"Enter mass of second object (in kg): \"))\n",
        "r = float(input(\"Enter distance between objects (in meters): \"))\n",
        "\n",
        "# Calculating gravitational force\n",
        "if r != 0:\n",
        "    force = G * m1 * m2 / (r ** 2)\n",
        "    print(f\"The gravitational force between the objects is {force} N\")\n",
        "else:\n",
        "    print(\"Distance cannot be zero.\")"
      ],
      "metadata": {
        "colab": {
          "base_uri": "https://localhost:8080/"
        },
        "id": "0-IWEVTyhqNc",
        "outputId": "ba285e31-7716-4fa8-abcb-3f96a107e9f8"
      },
      "execution_count": null,
      "outputs": [
        {
          "output_type": "stream",
          "name": "stdout",
          "text": [
            "Enter mass of first object (in kg): 47\n",
            "Enter mass of second object (in kg): 55\n",
            "Enter distance between objects (in meters): 12\n",
            "The gravitational force between the objects is 1.1980756944444442e-09 N\n"
          ]
        }
      ]
    },
    {
      "cell_type": "code",
      "source": [
        "#q14#  Volume of a Cylinder:\n",
        "# Write a Python program to calculate the volume of a cylinder.\n",
        "# Use the formula: volume = 𝝅r²h\n",
        "#  Take radius(r) and height(h) as inputs from the user\n",
        "\n",
        "\n",
        "import math  # To use the value of pi\n",
        "\n",
        "# Take radius and height as input from the user\n",
        "r = float(input(\"Enter the radius of the cylinder (r): \"))\n",
        "h = float(input(\"Enter the height of the cylinder (h): \"))\n",
        "\n",
        "# Calculate volume\n",
        "volume = math.pi * (r ** 2) * h\n",
        "\n",
        "# Display the result\n",
        "print(f\"The volume of the cylinder is: {volume} cubic units\")"
      ],
      "metadata": {
        "colab": {
          "base_uri": "https://localhost:8080/"
        },
        "id": "6nou1HhjrIE6",
        "outputId": "996d5461-8f54-4193-d43f-756a70db9cbf"
      },
      "execution_count": null,
      "outputs": [
        {
          "output_type": "stream",
          "name": "stdout",
          "text": [
            "Enter the radius of the cylinder (r): 4\n",
            "Enter the height of the cylinder (h): 10\n",
            "The volume of the cylinder is: 502.6548245743669 cubic units\n"
          ]
        }
      ]
    },
    {
      "cell_type": "code",
      "source": [
        "#q:15  Pressure\n",
        "# Write a Python program to calculate the pressure exerted by a force on a surface. Use the formula:P = F / A\n",
        "\n",
        "#  P = pressure\n",
        "# F = force\n",
        "# A = area\n",
        "# Take F(force) and A(area) as inputs from the user.\n",
        "\n",
        "\n",
        "\n",
        "\n",
        "\n",
        "#solution\n",
        "\n",
        "# Get inputs from the user\n",
        "F = float(input(\"Enter the force (in Newtons): \"))\n",
        "A = float(input(\"Enter the area (in square meters): \"))\n",
        "\n",
        "# Calculate pressure\n",
        "if A != 0:\n",
        "    P = F / A\n",
        "    print(f\"The pressure exerted is {P} Pascals\")\n",
        "else:\n",
        "    print(\"Area cannot be zero.\")"
      ],
      "metadata": {
        "colab": {
          "base_uri": "https://localhost:8080/"
        },
        "id": "vQttROlPu1PW",
        "outputId": "76fe13f5-fc68-475f-b8b3-1f767bc915e3"
      },
      "execution_count": null,
      "outputs": [
        {
          "output_type": "stream",
          "name": "stdout",
          "text": [
            "Enter the force (in Newtons): 50\n",
            "Enter the area (in square meters): 10\n",
            "The pressure exerted is 5.0 Pascals\n"
          ]
        }
      ]
    },
    {
      "cell_type": "code",
      "source": [
        "#16) Electric Power:\n",
        "# Write a Python program to calculate the electric power consumed. Use the formula:  P = V/I\n",
        "# where:\n",
        "# P = power\n",
        "# V = voltage\n",
        "# I = current\n",
        "# Take V(voltage) and I(current) as inputs from the user.\n",
        "\n",
        "#solution\n",
        "# Code: Electric Power calculate karna using P = V/I\n",
        "V = float(input(\"Voltage (V) darj karein: \"))\n",
        "I = float(input(\"Current (I) darj karein: \"))\n",
        "\n",
        "# Check karen ke current zero to nahi\n",
        "if I != 0:\n",
        "    P = V / I\n",
        "    print(f\"Calculated power (P = V/I) hai: {P}\")\n",
        "else:\n",
        "    print(\"Current zero nahi ho sakta, division possible nahi.\")\n"
      ],
      "metadata": {
        "colab": {
          "base_uri": "https://localhost:8080/"
        },
        "id": "Fn5d51mCzutN",
        "outputId": "d131d379-f065-430f-9ba2-685b4f90a0e3"
      },
      "execution_count": null,
      "outputs": [
        {
          "output_type": "stream",
          "name": "stdout",
          "text": [
            "Voltage (V) darj karein: 12\n",
            "Current (I) darj karein: 4\n",
            "Calculated power (P = V/I) hai: 3.0\n"
          ]
        }
      ]
    },
    {
      "cell_type": "code",
      "source": [
        "#q17) Perimeter of a Circle (Circumference):\n",
        "# Write a Python program to calculate the perimeter (circumference) of a circle. Use the\n",
        "# formula:  Perimeter = 2 × π × r\n",
        "# Take r (radius) as input from the user.\n",
        "\n",
        "import math  # Math module ka import taake hum pi use kar sakein\n",
        "\n",
        "# User se radius input lena\n",
        "r = float(input(\"Circle ka radius (r) darj karein: \"))\n",
        "\n",
        "# Perimeter calculate karna using formula: 2 × π × r\n",
        "perimeter = 2 * math.pi * r\n",
        "\n",
        "# Result print karna\n",
        "print(f\"Circle ka perimeter (circumference) hai: {perimeter}\")\n"
      ],
      "metadata": {
        "colab": {
          "base_uri": "https://localhost:8080/"
        },
        "id": "8T9ukxyN2yNG",
        "outputId": "2f963c94-b691-4a12-d3ab-cab2cb000cd3"
      },
      "execution_count": null,
      "outputs": [
        {
          "output_type": "stream",
          "name": "stdout",
          "text": [
            "Circle ka radius (r) darj karein: 7\n",
            "Circle ka perimeter (circumference) hai: 43.982297150257104\n"
          ]
        }
      ]
    },
    {
      "cell_type": "code",
      "source": [
        "# 18. Future Value in Savings\n",
        "# Write a Python program to calculate the future value of an investment. Use the formula:\n",
        "# FV = PV(1 + r)^t\n",
        "# where:\n",
        "# FV = future value\n",
        "# PV = present value\n",
        "# r = annual interest rate (as a decimal)\n",
        "# t = time in years\n",
        "# Take PV, r, and t as inputs from the user.\n",
        "\n",
        "\n",
        "\n",
        "# 18) Future Value in Savings\n",
        "\n",
        "# Taking input from the user\n",
        "PV = float(input(\"Enter the present value (PV): \"))\n",
        "r = float(input(\"Enter the annual interest rate (as a decimal, e.g., 0.05 for 5%): \"))\n",
        "t = float(input(\"Enter the time in years (t): \"))\n",
        "\n",
        "# Calculating Future Value\n",
        "FV = PV * (1 + r) ** t\n",
        "\n",
        "# Displaying the result\n",
        "print(\"The future value (FV) of the investment is:\", round(FV, 2))\n",
        "\n",
        "\n",
        "\n"
      ],
      "metadata": {
        "colab": {
          "base_uri": "https://localhost:8080/"
        },
        "id": "HkzDnehk5dNm",
        "outputId": "bafa8797-b27f-4a29-e508-cb82cb59d93b"
      },
      "execution_count": null,
      "outputs": [
        {
          "output_type": "stream",
          "name": "stdout",
          "text": [
            "Enter the present value (PV): 1000\n",
            "Enter the annual interest rate (as a decimal, e.g., 0.05 for 5%): .05\n",
            "Enter the time in years (t): 3\n",
            "The future value (FV) of the investment is: 1157.63\n"
          ]
        }
      ]
    },
    {
      "cell_type": "code",
      "source": [
        "#   19) Work Done by a Force:\n",
        "# Write a Python program to calculate the work done by a force. Use the formula:\n",
        "#  W= f× d×  cosθ\n",
        "# where:\n",
        "# W = work done\n",
        "# f= force\n",
        "# d = distance\n",
        "# theta = angle between force and direction of movement (in degrees)\n",
        "# Take f, d, and θ as inputs from the user.\n",
        "\n",
        "\n",
        "\n",
        "\n",
        "\n",
        "import math  # Math module zaroori hai cosine aur radians ke liye\n",
        "\n",
        "# User se inputs lena\n",
        "f = float(input(\"Enter the force (f) in Newtons: \"))\n",
        "d = float(input(\"Enter the distance (d) in meters: \"))\n",
        "theta_deg = float(input(\"Enter the angle (theta) in degrees: \"))\n",
        "\n",
        "# Degrees ko radians mein badalna (kyunki math.cos radians mein kaam karta hai)\n",
        "theta_rad = math.radians(theta_deg)\n",
        "\n",
        "# Work done ka formula lagana\n",
        "W = f * d * math.cos(theta_rad)\n",
        "\n",
        "# Result dikhana, 2 decimal tak round karke\n",
        "print(\"The work done (W) is:\", round(W, 2), \"Joules\")\n"
      ],
      "metadata": {
        "colab": {
          "base_uri": "https://localhost:8080/"
        },
        "id": "PG1ZIl8BZWAq",
        "outputId": "ed68f29e-d609-4685-b186-7b99b204eae0"
      },
      "execution_count": null,
      "outputs": [
        {
          "output_type": "stream",
          "name": "stdout",
          "text": [
            "Enter the force (f) in Newtons: 10\n",
            "Enter the distance (d) in meters: 5\n",
            "Enter the angle (theta) in degrees: 60\n",
            "The work done (W) is: 25.0 Joules\n"
          ]
        }
      ]
    },
    {
      "cell_type": "code",
      "source": [
        "#20 # 20) Heat Transfer Calculation:\n",
        "\n",
        "# Write a Python program to calculate the amount of heat transferred using the formula:\n",
        "\n",
        "# Q = m × c × ΔT\n",
        "\n",
        "# Where:\n",
        "\n",
        "# Q = Heat transferred (in Joules)\n",
        "\n",
        "# m = Mass of the substance (in kg)\n",
        "\n",
        "# c = specific heat capacity\n",
        "# ΔT\n",
        "# Take m, c, T as inputs from the user.\n",
        "\n",
        "\n",
        "\n",
        "#soluytion------\n",
        "#  Python program to calculate the amount of heat transferred using the formula:\n",
        "#  Q = m × c × ΔT\n",
        "\n",
        "\n",
        "# Heat Transfer Calculation\n",
        "\n",
        "# Get user input\n",
        "mass = float(input(\"Enter the mass (in kg): \"))\n",
        "specific_heat = float(input(\"Enter the specific heat capacity (in J/kg°C): \"))\n",
        "delta_T = float(input(\"Enter the temperature change (ΔT in °C): \"))\n",
        "\n",
        "# Calculate heat transferred\n",
        "Q = mass * specific_heat * delta_T\n",
        "\n",
        "# Display the result\n",
        "print(f\"\\nHeat transferred (Q) = {Q} Joules\")"
      ],
      "metadata": {
        "id": "De0dYxL0aCns",
        "colab": {
          "base_uri": "https://localhost:8080/"
        },
        "outputId": "bf4bc13b-1ec1-4a6a-ec95-d0f2cb9e4774"
      },
      "execution_count": 1,
      "outputs": [
        {
          "output_type": "stream",
          "name": "stdout",
          "text": [
            "Enter the mass (in kg): 2\n",
            "Enter the specific heat capacity (in J/kg°C):  4200\n",
            "Enter the temperature change (ΔT in °C): 10\n",
            "\n",
            "Heat transferred (Q) = 84000.0 Joules\n"
          ]
        }
      ]
    }
  ]
}